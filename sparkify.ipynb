{
 "cells": [
  {
   "cell_type": "code",
   "execution_count": 9,
   "id": "45452bb3",
   "metadata": {},
   "outputs": [
    {
     "data": {
      "application/vnd.jupyter.widget-view+json": {
       "model_id": "3851e804f2bf4c6c8ce5fac711918776",
       "version_major": 2,
       "version_minor": 0
      },
      "text/plain": [
       "VBox()"
      ]
     },
     "metadata": {},
     "output_type": "display_data"
    },
    {
     "data": {
      "application/vnd.jupyter.widget-view+json": {
       "model_id": "",
       "version_major": 2,
       "version_minor": 0
      },
      "text/plain": [
       "FloatProgress(value=0.0, bar_style='info', description='Progress:', layout=Layout(height='25px', width='50%'),…"
      ]
     },
     "metadata": {},
     "output_type": "display_data"
    }
   ],
   "source": [
    "import configparser\n",
    "from datetime import datetime\n",
    "import os\n",
    "from pyspark.sql import SparkSession\n",
    "from pyspark.sql.functions import udf, col\n",
    "from pyspark.sql.functions import year, month, dayofmonth, hour, weekofyear, date_format\n",
    "from pyspark.sql.functions import monotonically_increasing_id\n",
    "\n",
    "\n",
    "config = configparser.ConfigParser()\n",
    "config.read('dl.cfg')\n",
    "\n",
    "os.environ['AWS_ACCESS_KEY_ID']=config['AWS_ACCESS_KEY_ID']\n",
    "os.environ['AWS_SECRET_ACCESS_KEY']=config['AWS_SECRET_ACCESS_KEY'] "
   ]
  },
  {
   "cell_type": "code",
   "execution_count": 10,
   "id": "956a5a86",
   "metadata": {},
   "outputs": [
    {
     "data": {
      "application/vnd.jupyter.widget-view+json": {
       "model_id": "f267096b75154fe0b034b149c3b3cc35",
       "version_major": 2,
       "version_minor": 0
      },
      "text/plain": [
       "VBox()"
      ]
     },
     "metadata": {},
     "output_type": "display_data"
    },
    {
     "data": {
      "application/vnd.jupyter.widget-view+json": {
       "model_id": "",
       "version_major": 2,
       "version_minor": 0
      },
      "text/plain": [
       "FloatProgress(value=0.0, bar_style='info', description='Progress:', layout=Layout(height='25px', width='50%'),…"
      ]
     },
     "metadata": {},
     "output_type": "display_data"
    }
   ],
   "source": [
    "def create_spark_session():\n",
    "    spark = SparkSession \\\n",
    "        .builder \\\n",
    "        .config(\"spark.jars.packages\", \"org.apache.hadoop:hadoop-aws:2.7.0\") \\\n",
    "        .getOrCreate()\n",
    "    return spark"
   ]
  },
  {
   "cell_type": "code",
   "execution_count": 11,
   "id": "8e8712ab",
   "metadata": {},
   "outputs": [
    {
     "data": {
      "application/vnd.jupyter.widget-view+json": {
       "model_id": "bb2d167a98a14c5e9ada8c486e54f7c9",
       "version_major": 2,
       "version_minor": 0
      },
      "text/plain": [
       "VBox()"
      ]
     },
     "metadata": {},
     "output_type": "display_data"
    },
    {
     "data": {
      "application/vnd.jupyter.widget-view+json": {
       "model_id": "",
       "version_major": 2,
       "version_minor": 0
      },
      "text/plain": [
       "FloatProgress(value=0.0, bar_style='info', description='Progress:', layout=Layout(height='25px', width='50%'),…"
      ]
     },
     "metadata": {},
     "output_type": "display_data"
    }
   ],
   "source": [
    "def process_song_data(spark, input_data, output_data):\n",
    "    # get filepath to song data file\n",
    "    song_data = input_data + 'song_data/*/*/*/*.json'\n",
    "    #song_data = input_data + 'song_data/A/B/C/TRABCEI128F424C983.json'\n",
    "        \n",
    "    # read song data file\n",
    "    df = spark.read.json(song_data)\n",
    "\n",
    "    # extract columns to create songs table\n",
    "    songs_table = df.select('song_id', 'title', 'artist_id', 'year', \n",
    "                            'duration').dropDuplicates()\n",
    "    songs_table.createOrReplaceTempView('songs')\n",
    "    \n",
    "    # write songs table to parquet files partitioned by year and artist\n",
    "    songs_table.write.partitionBy('year', 'artist_id').parquet(os.path.join(output_data, 'output/songs/songs.parquet'), 'overwrite')\n",
    "\n",
    "    # extract columns to create artists table\n",
    "    artists_table = df.select('artist_id', 'artist_name', 'artist_location', \n",
    "                              'artist_latitude', 'artist_longitude') \\\n",
    "                              .dropDuplicates()\n",
    "    \n",
    "    artists_table = artists_table.withColumnRenamed('artist_name', 'name') \\\n",
    "                                 .withColumnRenamed('artist_location', 'location') \\\n",
    "                                 .withColumnRenamed('artist_latitude', 'latitude') \\\n",
    "                                 .withColumnRenamed('artist_longitude', 'longitude')\n",
    "    \n",
    "    artists_table.createOrReplaceTempView('artists')\n",
    "\n",
    "    # write artists table to parquet files\n",
    "    artists_table.write.parquet(os.path.join(output_data, 'output/artists/artists.parquet'), 'overwrite')"
   ]
  },
  {
   "cell_type": "code",
   "execution_count": 12,
   "id": "eab7884d",
   "metadata": {},
   "outputs": [
    {
     "data": {
      "application/vnd.jupyter.widget-view+json": {
       "model_id": "6ca4de765ffa4ca6867912b6cef49776",
       "version_major": 2,
       "version_minor": 0
      },
      "text/plain": [
       "VBox()"
      ]
     },
     "metadata": {},
     "output_type": "display_data"
    },
    {
     "data": {
      "application/vnd.jupyter.widget-view+json": {
       "model_id": "",
       "version_major": 2,
       "version_minor": 0
      },
      "text/plain": [
       "FloatProgress(value=0.0, bar_style='info', description='Progress:', layout=Layout(height='25px', width='50%'),…"
      ]
     },
     "metadata": {},
     "output_type": "display_data"
    }
   ],
   "source": [
    "def process_log_data(spark, input_data, output_data):\n",
    "    # get filepath to log data file\n",
    "    log_data = input_data + 'log_data/*/*/*.json' \n",
    "    #log_data = input_data + 'log_data/2018/11/2018-11-12-events.json'\n",
    "\n",
    "    # read log data file\n",
    "    df = spark.read.json(log_data)\n",
    "    \n",
    "    # filter by actions for song plays\n",
    "    nextSong_df = df.filter(df.page == 'NextSong') \\\n",
    "                    .select('ts', 'userId', 'level', 'song', 'artist',\n",
    "                           'sessionId', 'location', 'userAgent')\n",
    "\n",
    "    # extract columns for users table\n",
    "    users_table = df.select('userId', 'firstName', 'lastName', \n",
    "                            'gender', 'level') \\\n",
    "                            .dropDuplicates()\n",
    "    \n",
    "    users_table = users_table.withColumnRenamed('userId', 'user_id') \\\n",
    "                             .withColumnRenamed('firstName', 'first_name') \\\n",
    "                             .withColumnRenamed('lastName', 'last_name')\n",
    "    \n",
    "    users_table.createOrReplaceTempView('users')\n",
    "    \n",
    "    # write users table to parquet files\n",
    "    users_table.write.parquet(os.path.join(output_data, 'output/users/users.parquet'), 'overwrite')\n",
    "\n",
    "    # create timestamp column from original timestamp column\n",
    "    get_timestamp = udf(lambda x: int(int(x)/1000))\n",
    "    nextSong_df = nextSong_df.withColumn('timestamp', get_timestamp(nextSong_df.ts))\n",
    "    \n",
    "    # create datetime column from original timestamp column\n",
    "    get_datetime = udf(lambda x: str(datetime.fromtimestamp(int(x) / 1000)))\n",
    "    nextSong_df = nextSong_df.withColumn('datetime', get_datetime(nextSong_df.ts))\n",
    "    \n",
    "    # extract columns to create time table\n",
    "    time_table = nextSong_df.select('datetime').dropDuplicates()\n",
    "    \n",
    "    time_table = time_table.withColumn('start_time', nextSong_df.datetime) \\\n",
    "                           .withColumn('hour', hour('datetime')) \\\n",
    "                           .withColumn('day', dayofmonth('datetime')) \\\n",
    "                           .withColumn('week', weekofyear('datetime')) \\\n",
    "                           .withColumn('month', month('datetime')) \\\n",
    "                           .withColumn('year', year('datetime'))# \\\n",
    "                           #.withColumn('weekday', dayofweek('datetime'))\n",
    "    \n",
    "    # write time table to parquet files partitioned by year and month\n",
    "    time_table.write.parquet(os.path.join(output_data, 'output/time/time.parquet'), 'overwrite')\n",
    "\n",
    "    # read in song data to use for songplays table\n",
    "    #song_df = spark.read.json(input_data + 'song_data/*/*/*/*.json')\n",
    "    song_df = spark.read.json(input_data + 'song_data/A/B/C/TRABCEI128F424C983.json')\n",
    "\n",
    "    # extract columns from joined song and log datasets to create songplays table \n",
    "    merged_df = nextSong_df.join(song_df, col('artist') == col(\n",
    "        'artist_name'), 'inner')\n",
    "    songplays_table = merged_df.select(col('datetime').alias('start_time'),\n",
    "                                       col('userId').alias('user_id'),\n",
    "                                       col('level').alias('level'),\n",
    "                                       col('song_id').alias('song_id'),\n",
    "                                       col('artist_id').alias('artist_id'),\n",
    "                                       col('sessionId').alias('session_id'),\n",
    "                                       col('location').alias('location'), \n",
    "                                       col('userAgent').alias('user_agent'),\n",
    "                                       year('datetime').alias('year'),\n",
    "                                       month('datetime').alias('month')) \\\n",
    "                                      .withColumn('songplay_id', monotonically_increasing_id())\n",
    "\n",
    "    # write songplays table to parquet files partitioned by year and month\n",
    "    songplays_table.write.partitionBy('year', 'month') \\\n",
    "        .parquet(os.path.join(output_data, 'output/songplays/songplays.parquet'), 'overwrite')"
   ]
  },
  {
   "cell_type": "code",
   "execution_count": 13,
   "id": "42a155cc",
   "metadata": {},
   "outputs": [
    {
     "data": {
      "application/vnd.jupyter.widget-view+json": {
       "model_id": "cbadb17d28c1432c8dae7a7f5fae286f",
       "version_major": 2,
       "version_minor": 0
      },
      "text/plain": [
       "VBox()"
      ]
     },
     "metadata": {},
     "output_type": "display_data"
    },
    {
     "data": {
      "application/vnd.jupyter.widget-view+json": {
       "model_id": "",
       "version_major": 2,
       "version_minor": 0
      },
      "text/plain": [
       "FloatProgress(value=0.0, bar_style='info', description='Progress:', layout=Layout(height='25px', width='50%'),…"
      ]
     },
     "metadata": {},
     "output_type": "display_data"
    }
   ],
   "source": [
    "def main():\n",
    "    spark = create_spark_session()\n",
    "    input_data = \"s3a://udacity-dend/\"\n",
    "    output_data = \"s3://udacity-data-lake-sparkify/\"\n",
    "        \n",
    "    process_song_data(spark, input_data, output_data)\n",
    "    process_log_data(spark, input_data, output_data)"
   ]
  },
  {
   "cell_type": "code",
   "execution_count": 14,
   "id": "84ed180d",
   "metadata": {},
   "outputs": [
    {
     "data": {
      "application/vnd.jupyter.widget-view+json": {
       "model_id": "90b99fa0b01b49cf8ffa3014320299cd",
       "version_major": 2,
       "version_minor": 0
      },
      "text/plain": [
       "VBox()"
      ]
     },
     "metadata": {},
     "output_type": "display_data"
    },
    {
     "data": {
      "application/vnd.jupyter.widget-view+json": {
       "model_id": "",
       "version_major": 2,
       "version_minor": 0
      },
      "text/plain": [
       "FloatProgress(value=0.0, bar_style='info', description='Progress:', layout=Layout(height='25px', width='50%'),…"
      ]
     },
     "metadata": {},
     "output_type": "display_data"
    }
   ],
   "source": [
    "main()"
   ]
  },
  {
   "cell_type": "code",
   "execution_count": 15,
   "id": "d02cc445",
   "metadata": {},
   "outputs": [
    {
     "data": {
      "application/vnd.jupyter.widget-view+json": {
       "model_id": "6de0a51c7b9744a49288c4b61b831cfb",
       "version_major": 2,
       "version_minor": 0
      },
      "text/plain": [
       "VBox()"
      ]
     },
     "metadata": {},
     "output_type": "display_data"
    },
    {
     "data": {
      "application/vnd.jupyter.widget-view+json": {
       "model_id": "",
       "version_major": 2,
       "version_minor": 0
      },
      "text/plain": [
       "FloatProgress(value=0.0, bar_style='info', description='Progress:', layout=Layout(height='25px', width='50%'),…"
      ]
     },
     "metadata": {},
     "output_type": "display_data"
    },
    {
     "name": "stdout",
     "output_type": "stream",
     "text": [
      "+------------------+--------------------+--------------------+---------+---------+\n",
      "|         artist_id|                name|            location| latitude|longitude|\n",
      "+------------------+--------------------+--------------------+---------+---------+\n",
      "|AROU8WM1187B9B4620|   Milton Nascimento|Rio de Janeiro, B...|-22.97673|-43.19508|\n",
      "|ARWLT1T1187B99B4CC|         Grant Green|       St. Louis, MO| 38.62774|-90.19951|\n",
      "|ARKGYG81187FB579A8|       Lucy Woodward|      Los Angeles CA| 40.71455|-74.00712|\n",
      "|AR5EH4F1187B98FC65|Berlin Symphony O...|                    |     null|     null|\n",
      "|ARSMEBG1187FB4D02B|         Kevin Ayers|Herne Bay, Kent, ...| 51.37121|   1.1251|\n",
      "|ARDIJLO1187FB3CE44|         Sandie Shaw|Dagenham, Essex, ...|     null|     null|\n",
      "|ARD0FN11187B9B25CD|         Bobby Darin|New York, NY [The...| 40.85715|-73.85678|\n",
      "|ARRL7WS1187FB576F1|  Ferrante & Teicher|                    |     null|     null|\n",
      "|ARCII0J1187FB3A1B4|   The Marx Brothers|New York City, Ne...| 40.71455|-74.00712|\n",
      "|ARUONH81187FB4FBB4|    ClickClickDecker|                    |     null|     null|\n",
      "+------------------+--------------------+--------------------+---------+---------+"
     ]
    }
   ],
   "source": [
    "spark.sql('''SELECT * FROM artists LIMIT 10''').show()"
   ]
  },
  {
   "cell_type": "code",
   "execution_count": null,
   "id": "0f2cf7f7",
   "metadata": {},
   "outputs": [],
   "source": []
  },
  {
   "cell_type": "code",
   "execution_count": null,
   "id": "77ee51e5",
   "metadata": {},
   "outputs": [],
   "source": []
  },
  {
   "cell_type": "code",
   "execution_count": null,
   "id": "6d8d2340",
   "metadata": {},
   "outputs": [],
   "source": []
  },
  {
   "cell_type": "code",
   "execution_count": null,
   "id": "fc49b030",
   "metadata": {},
   "outputs": [],
   "source": []
  },
  {
   "cell_type": "code",
   "execution_count": null,
   "id": "4748866c",
   "metadata": {},
   "outputs": [],
   "source": []
  },
  {
   "cell_type": "code",
   "execution_count": null,
   "id": "377f0c6c",
   "metadata": {},
   "outputs": [],
   "source": []
  },
  {
   "cell_type": "code",
   "execution_count": null,
   "id": "b2230ee1",
   "metadata": {},
   "outputs": [],
   "source": []
  }
 ],
 "metadata": {
  "kernelspec": {
   "display_name": "PySpark",
   "language": "python",
   "name": "pysparkkernel"
  },
  "language_info": {
   "codemirror_mode": {
    "name": "python",
    "version": 3
   },
   "file_extension": ".py",
   "mimetype": "text/x-python",
   "name": "pyspark",
   "pygments_lexer": "python3"
  }
 },
 "nbformat": 4,
 "nbformat_minor": 5
}
